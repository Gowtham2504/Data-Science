{
 "cells": [
  {
   "cell_type": "code",
   "execution_count": 1,
   "id": "a097126d",
   "metadata": {},
   "outputs": [],
   "source": [
    "#importing required libraries\n",
    "import pandas as pd\n",
    "import numpy as np"
   ]
  },
  {
   "cell_type": "code",
   "execution_count": 2,
   "id": "85094491",
   "metadata": {},
   "outputs": [],
   "source": [
    "#importing the dataset\n",
    "data = pd.read_csv('Problem Statement Dataset.csv')"
   ]
  },
  {
   "cell_type": "code",
   "execution_count": 3,
   "id": "db142b8d",
   "metadata": {},
   "outputs": [
    {
     "data": {
      "text/html": [
       "<div>\n",
       "<style scoped>\n",
       "    .dataframe tbody tr th:only-of-type {\n",
       "        vertical-align: middle;\n",
       "    }\n",
       "\n",
       "    .dataframe tbody tr th {\n",
       "        vertical-align: top;\n",
       "    }\n",
       "\n",
       "    .dataframe thead th {\n",
       "        text-align: right;\n",
       "    }\n",
       "</style>\n",
       "<table border=\"1\" class=\"dataframe\">\n",
       "  <thead>\n",
       "    <tr style=\"text-align: right;\">\n",
       "      <th></th>\n",
       "      <th>User_ID</th>\n",
       "      <th>Product_ID</th>\n",
       "      <th>Gender</th>\n",
       "      <th>Age</th>\n",
       "      <th>Occupation</th>\n",
       "      <th>City_Category</th>\n",
       "      <th>Stay_In_Current_City_Years</th>\n",
       "      <th>Marital_Status</th>\n",
       "      <th>Product_Category_1</th>\n",
       "      <th>Product_Category_2</th>\n",
       "      <th>Product_Category_3</th>\n",
       "      <th>Purchase</th>\n",
       "    </tr>\n",
       "  </thead>\n",
       "  <tbody>\n",
       "    <tr>\n",
       "      <th>0</th>\n",
       "      <td>1000001</td>\n",
       "      <td>P00069042</td>\n",
       "      <td>F</td>\n",
       "      <td>0-17</td>\n",
       "      <td>10</td>\n",
       "      <td>A</td>\n",
       "      <td>2</td>\n",
       "      <td>0</td>\n",
       "      <td>3</td>\n",
       "      <td>NaN</td>\n",
       "      <td>NaN</td>\n",
       "      <td>8370</td>\n",
       "    </tr>\n",
       "    <tr>\n",
       "      <th>1</th>\n",
       "      <td>1000001</td>\n",
       "      <td>P00248942</td>\n",
       "      <td>F</td>\n",
       "      <td>0-17</td>\n",
       "      <td>10</td>\n",
       "      <td>A</td>\n",
       "      <td>2</td>\n",
       "      <td>0</td>\n",
       "      <td>1</td>\n",
       "      <td>6.0</td>\n",
       "      <td>14.0</td>\n",
       "      <td>15200</td>\n",
       "    </tr>\n",
       "    <tr>\n",
       "      <th>2</th>\n",
       "      <td>1000001</td>\n",
       "      <td>P00087842</td>\n",
       "      <td>F</td>\n",
       "      <td>0-17</td>\n",
       "      <td>10</td>\n",
       "      <td>A</td>\n",
       "      <td>2</td>\n",
       "      <td>0</td>\n",
       "      <td>12</td>\n",
       "      <td>NaN</td>\n",
       "      <td>NaN</td>\n",
       "      <td>1422</td>\n",
       "    </tr>\n",
       "    <tr>\n",
       "      <th>3</th>\n",
       "      <td>1000001</td>\n",
       "      <td>P00085442</td>\n",
       "      <td>F</td>\n",
       "      <td>0-17</td>\n",
       "      <td>10</td>\n",
       "      <td>A</td>\n",
       "      <td>2</td>\n",
       "      <td>0</td>\n",
       "      <td>12</td>\n",
       "      <td>14.0</td>\n",
       "      <td>NaN</td>\n",
       "      <td>1057</td>\n",
       "    </tr>\n",
       "    <tr>\n",
       "      <th>4</th>\n",
       "      <td>1000002</td>\n",
       "      <td>P00285442</td>\n",
       "      <td>M</td>\n",
       "      <td>55+</td>\n",
       "      <td>16</td>\n",
       "      <td>C</td>\n",
       "      <td>4+</td>\n",
       "      <td>0</td>\n",
       "      <td>8</td>\n",
       "      <td>NaN</td>\n",
       "      <td>NaN</td>\n",
       "      <td>7969</td>\n",
       "    </tr>\n",
       "  </tbody>\n",
       "</table>\n",
       "</div>"
      ],
      "text/plain": [
       "   User_ID Product_ID Gender   Age  Occupation City_Category  \\\n",
       "0  1000001  P00069042      F  0-17          10             A   \n",
       "1  1000001  P00248942      F  0-17          10             A   \n",
       "2  1000001  P00087842      F  0-17          10             A   \n",
       "3  1000001  P00085442      F  0-17          10             A   \n",
       "4  1000002  P00285442      M   55+          16             C   \n",
       "\n",
       "  Stay_In_Current_City_Years  Marital_Status  Product_Category_1  \\\n",
       "0                          2               0                   3   \n",
       "1                          2               0                   1   \n",
       "2                          2               0                  12   \n",
       "3                          2               0                  12   \n",
       "4                         4+               0                   8   \n",
       "\n",
       "   Product_Category_2  Product_Category_3  Purchase  \n",
       "0                 NaN                 NaN      8370  \n",
       "1                 6.0                14.0     15200  \n",
       "2                 NaN                 NaN      1422  \n",
       "3                14.0                 NaN      1057  \n",
       "4                 NaN                 NaN      7969  "
      ]
     },
     "execution_count": 3,
     "metadata": {},
     "output_type": "execute_result"
    }
   ],
   "source": [
    "#viewing the dataset\n",
    "data.head()"
   ]
  },
  {
   "cell_type": "code",
   "execution_count": 4,
   "id": "1692a18d",
   "metadata": {},
   "outputs": [
    {
     "data": {
      "text/plain": [
       "(550068, 12)"
      ]
     },
     "execution_count": 4,
     "metadata": {},
     "output_type": "execute_result"
    }
   ],
   "source": [
    "#shape of the data\n",
    "data.shape"
   ]
  },
  {
   "cell_type": "code",
   "execution_count": 5,
   "id": "3512f150",
   "metadata": {},
   "outputs": [],
   "source": [
    "#dropping the target variable\n",
    "data = data.drop('Purchase', axis = 1)"
   ]
  },
  {
   "cell_type": "code",
   "execution_count": 6,
   "id": "539b774b",
   "metadata": {},
   "outputs": [],
   "source": [
    "#calculating covariance matrix\n",
    "Cov_Matrix = data.cov().abs()"
   ]
  },
  {
   "cell_type": "code",
   "execution_count": 7,
   "id": "c4153f1f",
   "metadata": {},
   "outputs": [
    {
     "data": {
      "text/html": [
       "<div>\n",
       "<style scoped>\n",
       "    .dataframe tbody tr th:only-of-type {\n",
       "        vertical-align: middle;\n",
       "    }\n",
       "\n",
       "    .dataframe tbody tr th {\n",
       "        vertical-align: top;\n",
       "    }\n",
       "\n",
       "    .dataframe thead th {\n",
       "        text-align: right;\n",
       "    }\n",
       "</style>\n",
       "<table border=\"1\" class=\"dataframe\">\n",
       "  <thead>\n",
       "    <tr style=\"text-align: right;\">\n",
       "      <th></th>\n",
       "      <th>User_ID</th>\n",
       "      <th>Occupation</th>\n",
       "      <th>Marital_Status</th>\n",
       "      <th>Product_Category_1</th>\n",
       "      <th>Product_Category_2</th>\n",
       "      <th>Product_Category_3</th>\n",
       "    </tr>\n",
       "  </thead>\n",
       "  <tbody>\n",
       "    <tr>\n",
       "      <th>User_ID</th>\n",
       "      <td>2.984573e+06</td>\n",
       "      <td>270.113921</td>\n",
       "      <td>17.367619</td>\n",
       "      <td>26.008008</td>\n",
       "      <td>13.461964</td>\n",
       "      <td>24.439292</td>\n",
       "    </tr>\n",
       "    <tr>\n",
       "      <th>Occupation</th>\n",
       "      <td>2.701139e+02</td>\n",
       "      <td>42.545100</td>\n",
       "      <td>0.077882</td>\n",
       "      <td>0.195578</td>\n",
       "      <td>0.012700</td>\n",
       "      <td>0.354959</td>\n",
       "    </tr>\n",
       "    <tr>\n",
       "      <th>Marital_Status</th>\n",
       "      <td>1.736762e+01</td>\n",
       "      <td>0.077882</td>\n",
       "      <td>0.241838</td>\n",
       "      <td>0.038497</td>\n",
       "      <td>0.037819</td>\n",
       "      <td>0.039400</td>\n",
       "    </tr>\n",
       "    <tr>\n",
       "      <th>Product_Category_1</th>\n",
       "      <td>2.600801e+01</td>\n",
       "      <td>0.195578</td>\n",
       "      <td>0.038497</td>\n",
       "      <td>15.493760</td>\n",
       "      <td>9.044359</td>\n",
       "      <td>2.438836</td>\n",
       "    </tr>\n",
       "    <tr>\n",
       "      <th>Product_Category_2</th>\n",
       "      <td>1.346196e+01</td>\n",
       "      <td>0.012700</td>\n",
       "      <td>0.037819</td>\n",
       "      <td>9.044359</td>\n",
       "      <td>25.873394</td>\n",
       "      <td>10.092953</td>\n",
       "    </tr>\n",
       "    <tr>\n",
       "      <th>Product_Category_3</th>\n",
       "      <td>2.443929e+01</td>\n",
       "      <td>0.354959</td>\n",
       "      <td>0.039400</td>\n",
       "      <td>2.438836</td>\n",
       "      <td>10.092953</td>\n",
       "      <td>17.018411</td>\n",
       "    </tr>\n",
       "  </tbody>\n",
       "</table>\n",
       "</div>"
      ],
      "text/plain": [
       "                         User_ID  Occupation  Marital_Status  \\\n",
       "User_ID             2.984573e+06  270.113921       17.367619   \n",
       "Occupation          2.701139e+02   42.545100        0.077882   \n",
       "Marital_Status      1.736762e+01    0.077882        0.241838   \n",
       "Product_Category_1  2.600801e+01    0.195578        0.038497   \n",
       "Product_Category_2  1.346196e+01    0.012700        0.037819   \n",
       "Product_Category_3  2.443929e+01    0.354959        0.039400   \n",
       "\n",
       "                    Product_Category_1  Product_Category_2  Product_Category_3  \n",
       "User_ID                      26.008008           13.461964           24.439292  \n",
       "Occupation                    0.195578            0.012700            0.354959  \n",
       "Marital_Status                0.038497            0.037819            0.039400  \n",
       "Product_Category_1           15.493760            9.044359            2.438836  \n",
       "Product_Category_2            9.044359           25.873394           10.092953  \n",
       "Product_Category_3            2.438836           10.092953           17.018411  "
      ]
     },
     "execution_count": 7,
     "metadata": {},
     "output_type": "execute_result"
    }
   ],
   "source": [
    "Cov_Matrix"
   ]
  },
  {
   "cell_type": "code",
   "execution_count": 8,
   "id": "f242f481",
   "metadata": {},
   "outputs": [],
   "source": [
    "#Eigen values and Eigen vectors of covariance matrix\n",
    "from numpy.linalg import eig\n",
    "values,vectors=eig(Cov_Matrix)"
   ]
  },
  {
   "cell_type": "code",
   "execution_count": null,
   "id": "ff79dd7d",
   "metadata": {},
   "outputs": [],
   "source": [
    "#Eigen vectors\n",
    "vectors"
   ]
  },
  {
   "cell_type": "code",
   "execution_count": 10,
   "id": "126a2287",
   "metadata": {
    "scrolled": true
   },
   "outputs": [
    {
     "data": {
      "text/plain": [
       "array([2.98457271e+06, 4.25338212e+01, 3.63230993e+01, 2.41439479e-01,\n",
       "       8.27727055e+00, 1.37718368e+01])"
      ]
     },
     "execution_count": 10,
     "metadata": {},
     "output_type": "execute_result"
    }
   ],
   "source": [
    "#Eigen values\n",
    "values"
   ]
  },
  {
   "cell_type": "markdown",
   "id": "020f59c7",
   "metadata": {},
   "source": [
    "## Selecting the Principal component"
   ]
  },
  {
   "cell_type": "markdown",
   "id": "8dea4cc8",
   "metadata": {},
   "source": [
    "* step 1 : Arrange the magnitudes of Eigen values in  Descending"
   ]
  },
  {
   "cell_type": "code",
   "execution_count": 27,
   "id": "9d84b499",
   "metadata": {},
   "outputs": [],
   "source": [
    "# sorting Eigen values\n",
    "sorted_val = np.sort(values)"
   ]
  },
  {
   "cell_type": "code",
   "execution_count": 28,
   "id": "0d4004f6",
   "metadata": {
    "scrolled": true
   },
   "outputs": [
    {
     "data": {
      "text/plain": [
       "array([2.41439479e-01, 8.27727055e+00, 1.37718368e+01, 3.63230993e+01,\n",
       "       4.25338212e+01, 2.98457271e+06])"
      ]
     },
     "execution_count": 28,
     "metadata": {},
     "output_type": "execute_result"
    }
   ],
   "source": [
    "#sorted Eigen values\n",
    "sorted_val"
   ]
  },
  {
   "cell_type": "markdown",
   "id": "5ed27052",
   "metadata": {},
   "source": [
    "* step 2: dividing Eigen values by sum of Eigen values"
   ]
  },
  {
   "cell_type": "code",
   "execution_count": 31,
   "id": "5d8fcfaa",
   "metadata": {},
   "outputs": [],
   "source": [
    "# sum of eigen values\n",
    "s = sorted_val.sum()"
   ]
  },
  {
   "cell_type": "code",
   "execution_count": 32,
   "id": "cab508ac",
   "metadata": {},
   "outputs": [
    {
     "data": {
      "text/plain": [
       "2984673.858899531"
      ]
     },
     "execution_count": 32,
     "metadata": {},
     "output_type": "execute_result"
    }
   ],
   "source": [
    "s"
   ]
  },
  {
   "cell_type": "code",
   "execution_count": 33,
   "id": "3fcb9a34",
   "metadata": {},
   "outputs": [],
   "source": [
    "# each eigen value divded by the sum 's'\n",
    "v = sorted_val/s"
   ]
  },
  {
   "cell_type": "code",
   "execution_count": 35,
   "id": "4f806d55",
   "metadata": {},
   "outputs": [
    {
     "data": {
      "text/plain": [
       "array([8.08930858e-08, 2.77325796e-06, 4.61418481e-06, 1.21698722e-05,\n",
       "       1.42507434e-05, 9.99966111e-01])"
      ]
     },
     "execution_count": 35,
     "metadata": {},
     "output_type": "execute_result"
    }
   ],
   "source": [
    "v"
   ]
  },
  {
   "cell_type": "code",
   "execution_count": 38,
   "id": "a9c8ac93",
   "metadata": {},
   "outputs": [],
   "source": [
    "#fitting into dataframe\n",
    "Eigen_values = pd.DataFrame(data = v, index = ['User_ID', 'Occupation', 'Mariatal_Status', 'Product_Category_1', 'Product_Category_2', 'Product_Category_3'])"
   ]
  },
  {
   "cell_type": "code",
   "execution_count": 39,
   "id": "71e1367d",
   "metadata": {},
   "outputs": [
    {
     "data": {
      "text/html": [
       "<div>\n",
       "<style scoped>\n",
       "    .dataframe tbody tr th:only-of-type {\n",
       "        vertical-align: middle;\n",
       "    }\n",
       "\n",
       "    .dataframe tbody tr th {\n",
       "        vertical-align: top;\n",
       "    }\n",
       "\n",
       "    .dataframe thead th {\n",
       "        text-align: right;\n",
       "    }\n",
       "</style>\n",
       "<table border=\"1\" class=\"dataframe\">\n",
       "  <thead>\n",
       "    <tr style=\"text-align: right;\">\n",
       "      <th></th>\n",
       "      <th>0</th>\n",
       "    </tr>\n",
       "  </thead>\n",
       "  <tbody>\n",
       "    <tr>\n",
       "      <th>User_ID</th>\n",
       "      <td>8.089309e-08</td>\n",
       "    </tr>\n",
       "    <tr>\n",
       "      <th>Occupation</th>\n",
       "      <td>2.773258e-06</td>\n",
       "    </tr>\n",
       "    <tr>\n",
       "      <th>Mariatal_Status</th>\n",
       "      <td>4.614185e-06</td>\n",
       "    </tr>\n",
       "    <tr>\n",
       "      <th>Product_Category_1</th>\n",
       "      <td>1.216987e-05</td>\n",
       "    </tr>\n",
       "    <tr>\n",
       "      <th>Product_Category_2</th>\n",
       "      <td>1.425074e-05</td>\n",
       "    </tr>\n",
       "    <tr>\n",
       "      <th>Product_Category_3</th>\n",
       "      <td>9.999661e-01</td>\n",
       "    </tr>\n",
       "  </tbody>\n",
       "</table>\n",
       "</div>"
      ],
      "text/plain": [
       "                               0\n",
       "User_ID             8.089309e-08\n",
       "Occupation          2.773258e-06\n",
       "Mariatal_Status     4.614185e-06\n",
       "Product_Category_1  1.216987e-05\n",
       "Product_Category_2  1.425074e-05\n",
       "Product_Category_3  9.999661e-01"
      ]
     },
     "execution_count": 39,
     "metadata": {},
     "output_type": "execute_result"
    }
   ],
   "source": [
    "Eigen_values"
   ]
  },
  {
   "cell_type": "markdown",
   "id": "3b23eaf9",
   "metadata": {},
   "source": [
    "'Product_Category_1', 'Product_Category_2' are the two important principal components"
   ]
  },
  {
   "cell_type": "code",
   "execution_count": null,
   "id": "a00870f6",
   "metadata": {},
   "outputs": [],
   "source": []
  }
 ],
 "metadata": {
  "kernelspec": {
   "display_name": "Python 3",
   "language": "python",
   "name": "python3"
  },
  "language_info": {
   "codemirror_mode": {
    "name": "ipython",
    "version": 3
   },
   "file_extension": ".py",
   "mimetype": "text/x-python",
   "name": "python",
   "nbconvert_exporter": "python",
   "pygments_lexer": "ipython3",
   "version": "3.8.8"
  }
 },
 "nbformat": 4,
 "nbformat_minor": 5
}
