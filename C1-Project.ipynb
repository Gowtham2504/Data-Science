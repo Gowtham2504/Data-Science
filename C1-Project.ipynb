{
 "cells": [
  {
   "cell_type": "code",
   "execution_count": 1,
   "id": "d2e756fe",
   "metadata": {},
   "outputs": [
    {
     "ename": "FileNotFoundError",
     "evalue": "[Errno 2] No such file or directory: 'C1-project/conv.txt'",
     "output_type": "error",
     "traceback": [
      "\u001b[1;31m---------------------------------------------------------------------------\u001b[0m",
      "\u001b[1;31mFileNotFoundError\u001b[0m                         Traceback (most recent call last)",
      "\u001b[1;32m<ipython-input-1-d762316a0886>\u001b[0m in \u001b[0;36m<module>\u001b[1;34m\u001b[0m\n\u001b[0;32m     43\u001b[0m \u001b[1;33m\u001b[0m\u001b[0m\n\u001b[0;32m     44\u001b[0m \u001b[1;33m\u001b[0m\u001b[0m\n\u001b[1;32m---> 45\u001b[1;33m \u001b[0muniqueCharacters\u001b[0m\u001b[1;33m,\u001b[0m \u001b[0mformattedLines\u001b[0m \u001b[1;33m=\u001b[0m \u001b[0mgetUniqueCharacters\u001b[0m\u001b[1;33m(\u001b[0m\u001b[0mreadFile\u001b[0m\u001b[1;33m(\u001b[0m\u001b[1;33m)\u001b[0m\u001b[1;33m)\u001b[0m\u001b[1;33m\u001b[0m\u001b[1;33m\u001b[0m\u001b[0m\n\u001b[0m\u001b[0;32m     46\u001b[0m \u001b[0mprint\u001b[0m\u001b[1;33m(\u001b[0m\u001b[1;34m'Number of unique characters in script are '\u001b[0m\u001b[1;33m+\u001b[0m \u001b[0mstr\u001b[0m\u001b[1;33m(\u001b[0m\u001b[0mlen\u001b[0m\u001b[1;33m(\u001b[0m\u001b[0muniqueCharacters\u001b[0m\u001b[1;33m)\u001b[0m\u001b[1;33m)\u001b[0m\u001b[1;33m)\u001b[0m\u001b[1;33m\u001b[0m\u001b[1;33m\u001b[0m\u001b[0m\n\u001b[0;32m     47\u001b[0m \u001b[0mcreateTxtForCharacters\u001b[0m\u001b[1;33m(\u001b[0m\u001b[0muniqueCharacters\u001b[0m\u001b[1;33m,\u001b[0m \u001b[0mformattedLines\u001b[0m\u001b[1;33m)\u001b[0m\u001b[1;33m\u001b[0m\u001b[1;33m\u001b[0m\u001b[0m\n",
      "\u001b[1;32m<ipython-input-1-d762316a0886>\u001b[0m in \u001b[0;36mreadFile\u001b[1;34m()\u001b[0m\n\u001b[0;32m      1\u001b[0m \u001b[1;31m#Reading the file\u001b[0m\u001b[1;33m\u001b[0m\u001b[1;33m\u001b[0m\u001b[1;33m\u001b[0m\u001b[0m\n\u001b[0;32m      2\u001b[0m \u001b[1;32mdef\u001b[0m \u001b[0mreadFile\u001b[0m\u001b[1;33m(\u001b[0m\u001b[1;33m)\u001b[0m\u001b[1;33m:\u001b[0m\u001b[1;33m\u001b[0m\u001b[1;33m\u001b[0m\u001b[0m\n\u001b[1;32m----> 3\u001b[1;33m     \u001b[1;32mwith\u001b[0m \u001b[0mopen\u001b[0m\u001b[1;33m(\u001b[0m\u001b[1;34m'C1-project/conv.txt'\u001b[0m\u001b[1;33m)\u001b[0m \u001b[1;32mas\u001b[0m \u001b[0mf\u001b[0m\u001b[1;33m:\u001b[0m\u001b[1;33m\u001b[0m\u001b[1;33m\u001b[0m\u001b[0m\n\u001b[0m\u001b[0;32m      4\u001b[0m         \u001b[0mlines\u001b[0m \u001b[1;33m=\u001b[0m \u001b[0mf\u001b[0m\u001b[1;33m.\u001b[0m\u001b[0mreadlines\u001b[0m\u001b[1;33m(\u001b[0m\u001b[1;33m)\u001b[0m\u001b[1;33m\u001b[0m\u001b[1;33m\u001b[0m\u001b[0m\n\u001b[0;32m      5\u001b[0m     \u001b[1;32mreturn\u001b[0m \u001b[0mlines\u001b[0m\u001b[1;33m\u001b[0m\u001b[1;33m\u001b[0m\u001b[0m\n",
      "\u001b[1;31mFileNotFoundError\u001b[0m: [Errno 2] No such file or directory: 'C1-project/conv.txt'"
     ]
    }
   ],
   "source": [
    "#Reading the file\n",
    "def readFile():\n",
    "    with open('C1-project/conv.txt') as f:\n",
    "        lines = f.readlines()\n",
    "    return lines\n",
    "\n",
    "#Get the Unique characters\n",
    "def getUniqueCharacters(lines):\n",
    "    formattedLines = []\n",
    "    characters = []\n",
    "    for line in lines:\n",
    "        if line != '\\n':\n",
    "            line = line[:-2]\n",
    "            splittedLine = line.split(':')\n",
    "            for chr in splittedLine:\n",
    "                characters.append(chr)\n",
    "                break\n",
    "            formattedLines.append(line)\n",
    "    \n",
    "    uniqueCharacters = set(characters)\n",
    "    return uniqueCharacters, formattedLines\n",
    "\n",
    "#Create text for each charcters\n",
    "def createTxtForCharacters(uniqueCharacters, formattedLines):\n",
    "    conversations = {}\n",
    "    for character in uniqueCharacters:\n",
    "        characterWords = []\n",
    "        for line in formattedLines:\n",
    "            if character in line:\n",
    "                splittedLine = line.split(':')\n",
    "                splittedLine = splittedLine[1].split(' ')\n",
    "                for chr in splittedLine:\n",
    "                        characterWords.append(chr)\n",
    "        characterWords = set(characterWords)\n",
    "        characterWords.pop()\n",
    "        conversations[character]=characterWords\n",
    "\n",
    "        file = open('C1-project/'+character+'.txt','w')\n",
    "        for word in characterWords:\n",
    "            file.write(word)\n",
    "            file.write('\\n')\n",
    "        file.close()\n",
    "\n",
    "\n",
    "uniqueCharacters, formattedLines = getUniqueCharacters(readFile())\n",
    "print('Number of unique characters in script are '+ str(len(uniqueCharacters)))\n",
    "createTxtForCharacters(uniqueCharacters, formattedLines)\n",
    "print('Text file is created for each character.')\n"
   ]
  },
  {
   "cell_type": "code",
   "execution_count": null,
   "id": "49127adb",
   "metadata": {},
   "outputs": [],
   "source": []
  }
 ],
 "metadata": {
  "kernelspec": {
   "display_name": "Python 3",
   "language": "python",
   "name": "python3"
  },
  "language_info": {
   "codemirror_mode": {
    "name": "ipython",
    "version": 3
   },
   "file_extension": ".py",
   "mimetype": "text/x-python",
   "name": "python",
   "nbconvert_exporter": "python",
   "pygments_lexer": "ipython3",
   "version": "3.8.8"
  }
 },
 "nbformat": 4,
 "nbformat_minor": 5
}
